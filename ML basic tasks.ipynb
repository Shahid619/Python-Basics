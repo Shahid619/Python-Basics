{
  "nbformat": 4,
  "nbformat_minor": 0,
  "metadata": {
    "colab": {
      "provenance": [],
      "authorship_tag": "ABX9TyOurOwPqixEq0KU9OEovk8v",
      "include_colab_link": true
    },
    "kernelspec": {
      "name": "python3",
      "display_name": "Python 3"
    },
    "language_info": {
      "name": "python"
    }
  },
  "cells": [
    {
      "cell_type": "markdown",
      "metadata": {
        "id": "view-in-github",
        "colab_type": "text"
      },
      "source": [
        "<a href=\"https://colab.research.google.com/github/Shahid619/Python-Basics/blob/main/ML%20basic%20tasks.ipynb\" target=\"_parent\"><img src=\"https://colab.research.google.com/assets/colab-badge.svg\" alt=\"Open In Colab\"/></a>"
      ]
    },
    {
      "cell_type": "markdown",
      "source": [
        "# **Intermediate Level (ML-BASICS)**"
      ],
      "metadata": {
        "id": "uiG5Up9hI7gw"
      }
    },
    {
      "cell_type": "markdown",
      "source": [
        "**Create a line plot showing the trend of student enrollments over the past decade using Matplotlib.**"
      ],
      "metadata": {
        "id": "0Z1qtYcfJFWn"
      }
    },
    {
      "cell_type": "code",
      "execution_count": null,
      "metadata": {
        "id": "X5UKNvyqIxlg"
      },
      "outputs": [],
      "source": [
        "from google.colab import files\n",
        "import pandas as pd\n",
        "import matplotlib.pyplot as plt\n",
        "\n",
        "uploaded = files.upload()\n",
        "\n",
        "df=pd.read_csv('sindh-school-enrollment-stats.csv')\n",
        "\n",
        "#print(df)\n",
        "\n",
        "plt.plot(df['Category'] , df['Number'] , marker='*' , linestyle='-' , color='b')\n",
        "plt.xlabel('Category')\n",
        "plt.ylabel('Number')\n",
        "plt.title('SINDH SCHOOL ENROLLMENT')\n",
        "plt.show()\n",
        "\n"
      ]
    },
    {
      "cell_type": "markdown",
      "source": [
        "**Use Pandas to group data by a specific column (e.g., department) and calculate the average grade for each group.**"
      ],
      "metadata": {
        "id": "SALgcGdjNW39"
      }
    },
    {
      "cell_type": "code",
      "source": [
        "from google.colab import files\n",
        "import pandas as pd\n",
        "uploaded = files.upload()\n",
        "\n",
        "df = pd.read_csv('sindh-school-enrollment-stats.csv')\n",
        "avg_num=df['Number'].mean()\n",
        "print(f'average number of students per year are : {avg_num}')\n",
        "\n",
        "#print(df)"
      ],
      "metadata": {
        "id": "vykUi8RRNZ4H"
      },
      "execution_count": null,
      "outputs": []
    },
    {
      "cell_type": "markdown",
      "source": [
        "**Merge two datasets containing information about students and their respective courses, ensuring no data is lost.**"
      ],
      "metadata": {
        "id": "qKnij9mHPR3b"
      }
    },
    {
      "cell_type": "code",
      "source": [
        "from google.colab import files\n",
        "import pandas as pd\n",
        "uploaded  = files.upload()\n",
        "\n",
        "df1=pd.read_csv('student-dataset.csv')\n",
        "uploaded  = files.upload()\n",
        "df2=pd.read_csv('sindh-school-enrollment-stats.csv')\n",
        "df=pd.merge(df1,df2 ,on='Number')\n",
        "print(df)"
      ],
      "metadata": {
        "id": "3DxytjvdPUmj"
      },
      "execution_count": null,
      "outputs": []
    }
  ]
}