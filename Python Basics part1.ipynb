{
  "nbformat": 4,
  "nbformat_minor": 0,
  "metadata": {
    "colab": {
      "provenance": [],
      "authorship_tag": "ABX9TyP+CqJftvEJe5tQbmnLn5JH",
      "include_colab_link": true
    },
    "kernelspec": {
      "name": "python3",
      "display_name": "Python 3"
    },
    "language_info": {
      "name": "python"
    }
  },
  "cells": [
    {
      "cell_type": "markdown",
      "metadata": {
        "id": "view-in-github",
        "colab_type": "text"
      },
      "source": [
        "<a href=\"https://colab.research.google.com/github/Shahid619/Python-Basics/blob/main/Python%20Basics%20part1.ipynb\" target=\"_parent\"><img src=\"https://colab.research.google.com/assets/colab-badge.svg\" alt=\"Open In Colab\"/></a>"
      ]
    },
    {
      "cell_type": "markdown",
      "source": [
        "# **FYP RECOMENDATION SYSTEM (fyp)*"
      ],
      "metadata": {
        "id": "J7taU4rGUrXJ"
      }
    },
    {
      "cell_type": "markdown",
      "source": [
        "**Basic Tasks :**"
      ],
      "metadata": {
        "id": "JG_7R8fJU3Xo"
      }
    },
    {
      "cell_type": "markdown",
      "source": [
        "Write a Python script to calculate the factorial of a number using both iterative and recursive methods."
      ],
      "metadata": {
        "id": "yHgTEzhfU_Ol"
      }
    },
    {
      "cell_type": "code",
      "execution_count": null,
      "metadata": {
        "id": "0K9QbnyrUqPN"
      },
      "outputs": [],
      "source": [
        "def fact(num):\n",
        "  fact=1\n",
        "  for i in range(num):\n",
        "    fact = fact *num\n",
        "    num=num-1\n",
        "  return fact\n",
        "\n",
        "print(fact(5))"
      ]
    },
    {
      "cell_type": "markdown",
      "source": [
        "Create a Python function that takes a list of numbers and returns a new list with each number squared."
      ],
      "metadata": {
        "id": "6yGQ7j1mWwrM"
      }
    },
    {
      "cell_type": "code",
      "source": [
        "lst1= [5,10,15,20,25]\n",
        "lst2=[]\n",
        "for i in range(len(lst1)):\n",
        "  lst2.append(lst1[i]**2)\n",
        "print(lst2)\n"
      ],
      "metadata": {
        "id": "49doXKyjWxcz"
      },
      "execution_count": null,
      "outputs": []
    },
    {
      "cell_type": "markdown",
      "source": [
        "Write a program that reads a text file and counts the number of words, lines, and characters in it."
      ],
      "metadata": {
        "id": "mmLzhtJAY5hU"
      }
    },
    {
      "cell_type": "code",
      "source": [
        "from google.colab import files\n",
        "\n",
        "# Step 1: Upload the file\n",
        "uploaded = files.upload()\n",
        "\n",
        "# Step 2: Define the function to count file contents\n",
        "def count_file_contents(file_path):\n",
        "    with open(file_path, 'r') as file:\n",
        "        lines = file.readlines()\n",
        "\n",
        "    num_lines = len(lines)\n",
        "    num_words = 0\n",
        "    num_characters = 0\n",
        "\n",
        "    for line in lines:\n",
        "        words = line.split()\n",
        "        num_words += len(words)\n",
        "        num_characters += len(line)\n",
        "\n",
        "    return num_lines, num_words, num_characters\n",
        "\n",
        "# Assuming the file name is shahid.txt (or the name you uploaded)\n",
        "file_path = 'Shahid.csv'  # This should match the uploaded file name\n",
        "num_lines, num_words, num_characters = count_file_contents(file_path)\n",
        "\n",
        "print(f\"Lines: {num_lines}\")\n",
        "print(f\"Words: {num_words}\")\n",
        "print(f\"Characters: {num_characters}\")\n",
        "\n",
        "\n",
        "\n"
      ],
      "metadata": {
        "id": "HTY_hI5tY6tG"
      },
      "execution_count": null,
      "outputs": []
    },
    {
      "cell_type": "markdown",
      "source": [
        "Implement a simple calculator that can perform addition, subtraction, multiplication, and division based on user input."
      ],
      "metadata": {
        "id": "-GIVzSDwN8EG"
      }
    },
    {
      "cell_type": "code",
      "source": [
        "def add(x,y):\n",
        "  return x+y\n",
        "def sub(x,y):\n",
        "  return x-y\n",
        "def mul(x,y):\n",
        "  return x*y\n",
        "def div(x,y):\n",
        "  return x/y\n",
        "\n",
        "print('select operation \\n 1.add \\n 2.sub \\n 3.mul \\n 4.div')\n",
        "num1=int(input('enter 1st number::'))\n",
        "num2=int(input('enter 2nd number::'))\n",
        "inp=int(input('enter choice'))\n",
        "if inp==1:\n",
        "  print(add(num1,num2))\n",
        "elif inp==2:\n",
        "  print(sub(num1,num2))\n",
        "elif inp==3:\n",
        "  print(mul(num1,num2))\n",
        "elif inp==4:\n",
        "  print(div(num1,num2))\n",
        "else:\n",
        "  print('invalid input')"
      ],
      "metadata": {
        "id": "H4CeXyEROBG-"
      },
      "execution_count": null,
      "outputs": []
    },
    {
      "cell_type": "markdown",
      "source": [
        "Develop a program that simulates a basic banking system with functionalities like deposit, withdrawal, and balance inquiry."
      ],
      "metadata": {
        "id": "hQ3yJAyTPcYm"
      }
    },
    {
      "cell_type": "code",
      "source": [
        "init_amount=20000\n",
        "def deposit():\n",
        "  global init_amount\n",
        "  amount=int(input('enter amount::'))\n",
        "  init_amount=amount+init_amount\n",
        "  print(f'you have deposited {amount} sucessfully in your bank account , Your current balance is {init_amount} ')\n",
        "\n",
        "def withdraw():\n",
        "  global init_amount\n",
        "  amount=int(input('enter amount::'))\n",
        "  if amount>init_amount:\n",
        "    print('insufficient balance')\n",
        "  else:\n",
        "    init_amount=init_amount-amount\n",
        "  print(f'your withdrawl is completed of an amount:{amount} ,Your current balance is {init_amount} ')\n",
        "\n",
        "def balance():\n",
        "  print(f'your balance is {init_amount}')\n",
        "\n",
        "\n",
        "print('do you want to continue \\n 1.yes \\n 2.No')\n",
        "choice = int(input('enter choice'))\n",
        "\n",
        "while(choice==1):\n",
        "  print('select operation \\n 1.deposit \\n 2.withdraw \\n 3.balance inquiry \\n 4.exit')\n",
        "  inp=int(input('enter choice'))\n",
        "  if inp==1:\n",
        "   deposit()\n",
        "  elif inp==2:\n",
        "   withdraw()\n",
        "  elif inp==3:\n",
        "    balance()\n",
        "  else:\n",
        "    break"
      ],
      "metadata": {
        "id": "BSNxapyTPdJm"
      },
      "execution_count": null,
      "outputs": []
    },
    {
      "cell_type": "markdown",
      "source": [
        "# **INTERMEDIATE LEVEL**"
      ],
      "metadata": {
        "id": "3VUB_Sbi2PUs"
      }
    },
    {
      "cell_type": "markdown",
      "source": [
        "**Load a CSV file containing student grades into a Pandas DataFrame and perform basic statistics (mean, median, mode).**"
      ],
      "metadata": {
        "id": "6k4gstFb2WKL"
      }
    },
    {
      "cell_type": "code",
      "source": [
        "!pip install pandas-profiling"
      ],
      "metadata": {
        "id": "HjFR3xFs4izE"
      },
      "execution_count": null,
      "outputs": []
    },
    {
      "cell_type": "code",
      "source": [
        "import pandas as pd\n",
        "import numpy as np\n",
        "from google.colab import files\n",
        "\n",
        "uploaded = files.upload()\n",
        "df=pd.read_csv('student-dataset.csv')\n",
        "mean = np.mean(df['math.grade'])\n",
        "median = np.median(df['math.grade'])\n",
        "mode = df['math.grade'].mode()[0]\n",
        "\n",
        "print(df)\n",
        "print(f'mean:: {mean}')\n",
        "print(f'median:: {median}')\n",
        "print(f'mode:: {mode}')"
      ],
      "metadata": {
        "collapsed": true,
        "id": "w-UJ_3kh2f66"
      },
      "execution_count": null,
      "outputs": []
    },
    {
      "cell_type": "markdown",
      "source": [
        "**Clean a dataset by handling missing values, removing duplicates, and standardizing column names.**"
      ],
      "metadata": {
        "id": "RLsgDDBg0pRr"
      }
    },
    {
      "cell_type": "code",
      "source": [
        "from google.colab import files\n",
        "import pandas as pd\n",
        "\n",
        "uploaded = files.upload()\n",
        "df=pd.read_csv('student-dataset.csv')\n",
        "\n",
        "print(df.isnull().sum())\n",
        "\n",
        "df_remove = df.dropna()\n",
        "print(df_remove)\n",
        "\n",
        "print(f' after handling missing value (by removing) dataset is :\\n {df_remove.shape}')\n",
        "\n",
        "#removing duplicate values\n",
        "fd_remove = df.drop_duplicates()\n",
        "print(f' after removing duplicate values :\\n {fd_remove}')\n"
      ],
      "metadata": {
        "id": "o9JSFXvJ0zrF"
      },
      "execution_count": null,
      "outputs": []
    },
    {
      "cell_type": "markdown",
      "source": [
        "**bold text**"
      ],
      "metadata": {
        "id": "9gPd9rL_EaYB"
      }
    }
  ]
}